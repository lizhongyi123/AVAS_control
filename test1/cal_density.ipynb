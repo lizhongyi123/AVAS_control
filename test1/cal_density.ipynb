{
 "cells": [
  {
   "cell_type": "code",
   "id": "initial_id",
   "metadata": {
    "collapsed": true,
    "ExecuteTime": {
     "end_time": "2024-10-08T08:12:32.523119Z",
     "start_time": "2024-10-08T08:12:30.234964Z"
    }
   },
   "source": [
    "from utils.readfile import read_dst_fast\n",
    "import numpy as np\n",
    "import matplotlib.pyplot as plt\n",
    "import matplotlib\n",
    "import numpy as np\n",
    "matplotlib.use('Qt5Agg')\n",
    "# 读取粒子信息数据\n",
    "path = r\"C:\\Users\\shliu\\Desktop\\test_density\\result\\Distrib_Out_0_0.dst\"\n",
    "particle_info = read_dst_fast(path)[\"partran_dist\"]\n",
    "\n",
    "# 提取x坐标信息，单位转换为mm\n",
    "x_info = [i[0] * 10 for i in particle_info]\n",
    "\n",
    "# 定义分区数量\n",
    "bins = 50  # 分成300份\n",
    "min_val, max_val = np.min(x_info), np.max(x_info)\n",
    "print(min_val, max_val)\n",
    "# 使用 np.histogram 统计每个范围内的粒子数\n",
    "counts, bin_edges = np.histogram(x_info, bins=bins, range=(min_val, max_val))\n",
    "\n",
    "# 将粒子数转换为比例\n",
    "counts = counts / np.sum(counts)\n",
    "\n",
    "\n",
    "\n",
    "# z = np.repeat(np.arange(0, 100), 300).reshape(100, 300)\n",
    "# y = np.tile(bin_edges[:-1], (100, 1))\n",
    "# density = np.tile(counts, (100, 1))\n",
    "z = np.tile(np.arange(0, 100), (bins, 1))\n",
    "print(z.shape)\n",
    "y = np.repeat(bin_edges[:-1], 100).reshape(bins, 100)\n",
    "print(y.shape)\n",
    "density = np.zeros((bins, 100))\n",
    "print(density.shape)\n",
    "print(counts.shape)\n",
    "for i in range(100):\n",
    "    density[:, i] = counts\n",
    "# x2 = np.tile(bin_edges,(100, 1))  # bin_edges 本身可以作为 Y 轴的边界，有301个值\n",
    "# x1 = np.tile(counts, (100, 1))  # 将 counts 复制 100 次作为二维矩阵的内容\n",
    "# \n",
    "plt.figure(figsize=(10, 6))\n",
    "\n",
    "plt.pcolormesh(z, y, density, cmap='jet', shading='auto')\n",
    "# 绘制二维密度图\n",
    "# plt.figure(figsize=(10, 6))\n",
    "# plt.pcolormesh(z, y, density, cmap='plasma', shading='auto')\n",
    "plt.ylim(5, 15)\n",
    "# 添加颜色条\n",
    "plt.colorbar(label='Particle Density')\n",
    "\n",
    "# 设置轴标签\n",
    "plt.xlabel('Position (normalized)')\n",
    "plt.ylabel('X (mm)')\n",
    "\n",
    "# 添加标题\n",
    "plt.title('2D Particle Density Distribution')\n",
    "\n",
    "# 显示图像\n",
    "plt.show()\n"
   ],
   "outputs": [
    {
     "name": "stdout",
     "output_type": "stream",
     "text": [
      "6.281269691288889 11.440103212844907\n",
      "(50, 100)\n",
      "(50, 100)\n",
      "(50, 100)\n",
      "(50,)\n"
     ]
    }
   ],
   "execution_count": 26
  },
  {
   "metadata": {},
   "cell_type": "code",
   "outputs": [],
   "execution_count": null,
   "source": "",
   "id": "ad570be8b998eabc"
  },
  {
   "metadata": {
    "ExecuteTime": {
     "end_time": "2024-09-30T02:26:37.182255Z",
     "start_time": "2024-09-30T02:26:37.173251Z"
    }
   },
   "cell_type": "code",
   "source": [
    "counts1 = np.array(counts[150:])\n",
    "#对前半部分取反\n",
    "counts2 = np.array(counts[:150][::-1])\n",
    "\n",
    "edge1 = bin_edges[151:301]\n",
    "edge2 = bin_edges[0:150][::-1]\n",
    "\n",
    "ratio = counts1 + counts2\n",
    "cumulative_ratio = np.cumsum(ratio)\n",
    "# 找到达到90%、99%、99.9%累积值的索引\n",
    "thresholds = [0.9, 0.99, 0.999, 0.9999]\n",
    "threshold_indices = [np.searchsorted(cumulative_ratio, threshold) for threshold in thresholds]\n",
    "\n",
    "# 获取对应边界的值\n",
    "#上边界\n",
    "boundaries1 = [edge1[idx] for idx in threshold_indices]\n",
    "boundaries2 = [edge2[idx] for idx in threshold_indices]\n",
    "\n",
    "print(boundaries1)\n",
    "print(boundaries2)\n"
   ],
   "id": "64484d9592460545",
   "outputs": [
    {
     "name": "stdout",
     "output_type": "stream",
     "text": [
      "[-11.120188090691947, -10.522448288069526, -10.241158969188387, -10.11809489217789]\n",
      "[-14.390176422685185, -14.987916225307606, -15.269205544188743, -15.392269621199242]\n"
     ]
    }
   ],
   "execution_count": 77
  }
 ],
 "metadata": {
  "kernelspec": {
   "display_name": "Python 3",
   "language": "python",
   "name": "python3"
  },
  "language_info": {
   "codemirror_mode": {
    "name": "ipython",
    "version": 2
   },
   "file_extension": ".py",
   "mimetype": "text/x-python",
   "name": "python",
   "nbconvert_exporter": "python",
   "pygments_lexer": "ipython2",
   "version": "2.7.6"
  }
 },
 "nbformat": 4,
 "nbformat_minor": 5
}
