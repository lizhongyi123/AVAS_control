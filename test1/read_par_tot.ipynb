{
 "cells": [
  {
   "cell_type": "code",
   "id": "initial_id",
   "metadata": {
    "collapsed": true,
    "ExecuteTime": {
     "end_time": "2024-09-25T03:14:00.597679Z",
     "start_time": "2024-09-25T03:14:00.582676Z"
    }
   },
   "source": [
    "from utils.readfile import read_txt\n",
    "p1 =  r\"C:\\Users\\shliu\\Desktop\\test_density\\result\\Statistic_Errors_1_PAR_tot.txt\"\n",
    "lines = read_txt(p1, out='list')[1:6]\n",
    "lines = [[float(j) for j in i] for i in lines]\n",
    "#\n",
    "print(1)"
   ],
   "outputs": [
    {
     "name": "stdout",
     "output_type": "stream",
     "text": [
      "1\n"
     ]
    }
   ],
   "execution_count": 3
  },
  {
   "metadata": {
    "ExecuteTime": {
     "end_time": "2024-09-25T03:15:22.450752Z",
     "start_time": "2024-09-25T03:15:22.444753Z"
    }
   },
   "cell_type": "code",
   "source": [
    "def get(index):\n",
    "    lis = []\n",
    "    for i in lines:\n",
    "        lis.append(i[index])\n",
    "    return lis  \n",
    "res = get(5)\n",
    "print(res)"
   ],
   "id": "ce612d6bf7dd6415",
   "outputs": [
    {
     "name": "stdout",
     "output_type": "stream",
     "text": [
      "[-1.129827e-07, 0.001374405, -0.0007628216, -0.004574311, -0.002610618]\n"
     ]
    }
   ],
   "execution_count": 4
  },
  {
   "metadata": {
    "ExecuteTime": {
     "end_time": "2024-09-25T03:17:35.316672Z",
     "start_time": "2024-09-25T03:17:35.302673Z"
    }
   },
   "cell_type": "code",
   "source": [
    "v1 = (res[1] + res[2]) / 2\n",
    "v2 = (res[3] + res[4]) / 2\n",
    "print(v1, v2)"
   ],
   "id": "cfa6e5491869a8e5",
   "outputs": [
    {
     "name": "stdout",
     "output_type": "stream",
     "text": [
      "0.0003057917 -0.0035924645\n"
     ]
    }
   ],
   "execution_count": 5
  }
 ],
 "metadata": {
  "kernelspec": {
   "display_name": "Python 3",
   "language": "python",
   "name": "python3"
  },
  "language_info": {
   "codemirror_mode": {
    "name": "ipython",
    "version": 2
   },
   "file_extension": ".py",
   "mimetype": "text/x-python",
   "name": "python",
   "nbconvert_exporter": "python",
   "pygments_lexer": "ipython2",
   "version": "2.7.6"
  }
 },
 "nbformat": 4,
 "nbformat_minor": 5
}
