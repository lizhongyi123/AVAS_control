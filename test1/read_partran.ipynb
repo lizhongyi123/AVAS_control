{
 "cells": [
  {
   "cell_type": "code",
   "id": "initial_id",
   "metadata": {
    "collapsed": true,
    "ExecuteTime": {
     "end_time": "2024-09-27T02:16:42.219897Z",
     "start_time": "2024-09-27T02:16:42.134222Z"
    }
   },
   "source": [
    "partran1_0 = r\"C:\\Users\\shliu\\Desktop\\test_density\\result\\partran1_0.out\"\n",
    "partran1_1 = r\"C:\\Users\\shliu\\Desktop\\test_density\\result\\partran1_1.out\"\n",
    "partran1_2 = r\"C:\\Users\\shliu\\Desktop\\test_density\\result\\partran1_2.out\"\n",
    "partran1_3 = r\"C:\\Users\\shliu\\Desktop\\test_density\\result\\partran1_3.out\"\n",
    "\n",
    "from utils.readfile import read_txt\n",
    "\n",
    "lines1_0 = read_txt(partran1_0, out='list')[10:]\n",
    "lines1_0 = [[float(j) for j in i] for i in lines1_0]\n",
    "\n",
    "lines1_1 = read_txt(partran1_1, out='list')[10:]\n",
    "lines1_1 = [[float(j) for j in i] for i in lines1_0]\n",
    "\n",
    "lines1_2 = read_txt(partran1_2, out='list')[10:]\n",
    "lines1_2 = [[float(j) for j in i] for i in lines1_0]\n",
    "\n",
    "lines1_3 = read_txt(partran1_3, out='list')[10:]\n",
    "lines1_3 = [[float(j) for j in i] for i in lines1_0]\n",
    "print(1)"
   ],
   "outputs": [
    {
     "name": "stdout",
     "output_type": "stream",
     "text": [
      "1\n"
     ]
    }
   ],
   "execution_count": 3
  },
  {
   "metadata": {
    "ExecuteTime": {
     "end_time": "2024-09-27T02:16:42.235877Z",
     "start_time": "2024-09-27T02:16:42.221896Z"
    }
   },
   "cell_type": "code",
   "source": [
    "zg = [i[1] for i in lines1_0]\n",
    "print(zg)"
   ],
   "id": "ae5edd16d02a5634",
   "outputs": [
    {
     "name": "stdout",
     "output_type": "stream",
     "text": [
      "[-0.0, 0.085, 0.13125, 0.1775, 0.22375, 0.27, 0.31625, 0.3625, 0.40875, 0.455, 0.50125, 0.5475, 0.59375, 0.64, 0.64, 0.64, 0.72513, 0.76888, 0.81263, 0.85638, 0.90013, 0.94388, 0.98763, 1.03138, 1.07513, 1.07513, 1.16026]\n"
     ]
    }
   ],
   "execution_count": 4
  },
  {
   "metadata": {
    "ExecuteTime": {
     "end_time": "2024-09-27T02:16:42.642877Z",
     "start_time": "2024-09-27T02:16:42.236877Z"
    }
   },
   "cell_type": "code",
   "source": [
    "import matplotlib.pyplot as plt\n",
    "x10 = []\n",
    "x11 = []\n",
    "for i in lines1_0:\n",
    "    x10.append(i[9])\n",
    "# for i in lines1_1:\n",
    "#     x11.append(i[3]/1000)\n",
    "print(x10)\n",
    "plt.scatter(range(0, len(x10)), x10, color='blue')\n"
   ],
   "id": "3aa33e1bb44ed727",
   "outputs": [
    {
     "name": "stdout",
     "output_type": "stream",
     "text": [
      "[1.164267, 1.308979, 1.406911, 1.5149, 1.627064, 1.642793, 1.511268, 1.362795, 1.226184, 1.105176, 1.036043, 1.049543, 1.103267, 1.178025, 1.178025, 1.178025, 1.348728, 1.452795, 1.565323, 1.683724, 1.736572, 1.620914, 1.46865, 1.328344, 1.199352, 1.199352, 0.9914928]\n"
     ]
    },
    {
     "data": {
      "text/plain": [
       "<matplotlib.collections.PathCollection at 0x14de195c460>"
      ]
     },
     "execution_count": 5,
     "metadata": {},
     "output_type": "execute_result"
    },
    {
     "data": {
      "text/plain": [
       "<Figure size 432x288 with 1 Axes>"
      ],
      "image/png": "[encoded data removed]"
     },
     "metadata": {
      "needs_background": "light"
     },
     "output_type": "display_data"
    }
   ],
   "execution_count": 5
  },
  {
   "metadata": {
    "ExecuteTime": {
     "end_time": "2024-09-27T02:16:42.658876Z",
     "start_time": "2024-09-27T02:16:42.644876Z"
    }
   },
   "cell_type": "code",
   "source": [
    "x10_square = [i**2 for i in x10]\n",
    "print(x10_square)"
   ],
   "id": "7cf8c561b39fd19d",
   "outputs": [
    {
     "name": "stdout",
     "output_type": "stream",
     "text": [
      "[1.3555176472889998, 1.7134260224409996, 1.9793985619210002, 2.2949220099999996, 2.647337260096, 2.698768840849, 2.2839309678240003, 1.857210212025, 1.5035272018559998, 1.2214139909759998, 1.073385097849, 1.1015405088489998, 1.217198073289, 1.3877429006250002, 1.3877429006250002, 1.3877429006250002, 1.8190672179839997, 2.1106133120250004, 2.450236094329, 2.834926508176, 3.015682311184, 2.627362195396, 2.1569328225, 1.764497782336, 1.4384452199039999, 1.4384452199039999, 0.9830579724518399]\n"
     ]
    }
   ],
   "execution_count": 6
  },
  {
   "metadata": {
    "ExecuteTime": {
     "end_time": "2024-09-27T02:16:42.674875Z",
     "start_time": "2024-09-27T02:16:42.659876Z"
    }
   },
   "cell_type": "code",
   "source": [
    "# rms_x = [i[11] for i in lines1_0]\n",
    "# print(rms_x)\n",
    "print(lines1_0[-1][-13])"
   ],
   "id": "d5842506b4b70989",
   "outputs": [
    {
     "name": "stdout",
     "output_type": "stream",
     "text": [
      "9.275037\n"
     ]
    }
   ],
   "execution_count": 7
  },
  {
   "metadata": {
    "ExecuteTime": {
     "end_time": "2024-09-27T02:16:42.690876Z",
     "start_time": "2024-09-27T02:16:42.675876Z"
    }
   },
   "cell_type": "code",
   "source": "",
   "id": "f02f57c3ab9ba9ab",
   "outputs": [],
   "execution_count": 7
  },
  {
   "metadata": {
    "ExecuteTime": {
     "end_time": "2024-09-27T02:16:42.706875Z",
     "start_time": "2024-09-27T02:16:42.691876Z"
    }
   },
   "cell_type": "code",
   "source": "(-0.010118095204234123, 0.009275037795305252, 13.98959732055664, 0.03353806957602501, 0.017051495611667633, 0.0055984314531087875, 0.0072907861322164536)",
   "id": "1040ee2b7477b0b9",
   "outputs": [
    {
     "data": {
      "text/plain": [
       "(-0.010118095204234123,\n",
       " 0.009275037795305252,\n",
       " 13.98959732055664,\n",
       " 0.03353806957602501,\n",
       " 0.017051495611667633,\n",
       " 0.0055984314531087875,\n",
       " 0.0072907861322164536)"
      ]
     },
     "execution_count": 8,
     "metadata": {},
     "output_type": "execute_result"
    }
   ],
   "execution_count": 8
  },
  {
   "metadata": {
    "ExecuteTime": {
     "end_time": "2024-09-27T02:16:42.721878Z",
     "start_time": "2024-09-27T02:16:42.707876Z"
    }
   },
   "cell_type": "code",
   "source": "",
   "id": "7195c47bc3e30643",
   "outputs": [],
   "execution_count": 8
  },
  {
   "metadata": {
    "ExecuteTime": {
     "end_time": "2024-09-27T02:44:14.795959Z",
     "start_time": "2024-09-27T02:44:14.783954Z"
    }
   },
   "cell_type": "code",
   "source": "print(lines1_0[-1][3]/1000)",
   "id": "3a1f85f8c8f8728",
   "outputs": [
    {
     "name": "stdout",
     "output_type": "stream",
     "text": [
      "-0.012707280000000001\n"
     ]
    }
   ],
   "execution_count": 14
  }
 ],
 "metadata": {
  "kernelspec": {
   "display_name": "Python 3",
   "language": "python",
   "name": "python3"
  },
  "language_info": {
   "codemirror_mode": {
    "name": "ipython",
    "version": 2
   },
   "file_extension": ".py",
   "mimetype": "text/x-python",
   "name": "python",
   "nbconvert_exporter": "python",
   "pygments_lexer": "ipython2",
   "version": "2.7.6"
  }
 },
 "nbformat": 4,
 "nbformat_minor": 5
}
