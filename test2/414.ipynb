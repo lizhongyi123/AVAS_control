{
 "cells": [
  {
   "cell_type": "code",
   "id": "initial_id",
   "metadata": {
    "collapsed": true,
    "ExecuteTime": {
     "end_time": "2025-04-14T08:30:02.823656Z",
     "start_time": "2025-04-14T08:30:02.812656Z"
    }
   },
   "source": [
    ""
   ],
   "outputs": [],
   "execution_count": 1
  },
  {
   "metadata": {
    "ExecuteTime": {
     "end_time": "2025-04-14T08:30:02.901515Z",
     "start_time": "2025-04-14T08:30:02.825407Z"
    }
   },
   "cell_type": "code",
   "source": [
    "import numpy as np\n",
    "z = [1,2,3,4]\n",
    "z_m = np.tile(z, (5, 1))\n",
    "print(z_m)"
   ],
   "id": "e93afee98a25068f",
   "outputs": [
    {
     "name": "stdout",
     "output_type": "stream",
     "text": [
      "[[1 2 3 4]\n",
      " [1 2 3 4]\n",
      " [1 2 3 4]\n",
      " [1 2 3 4]\n",
      " [1 2 3 4]]\n"
     ]
    }
   ],
   "execution_count": 2
  },
  {
   "metadata": {
    "ExecuteTime": {
     "end_time": "2025-04-14T08:30:14.319157Z",
     "start_time": "2025-04-14T08:30:14.303153Z"
    }
   },
   "cell_type": "code",
   "source": [
    "x = np.linspace(0, 10, 100)\n",
    "print(x)"
   ],
   "id": "f8586d8ed7d9b13a",
   "outputs": [
    {
     "name": "stdout",
     "output_type": "stream",
     "text": [
      "[ 0.          0.1010101   0.2020202   0.3030303   0.4040404   0.50505051\n",
      "  0.60606061  0.70707071  0.80808081  0.90909091  1.01010101  1.11111111\n",
      "  1.21212121  1.31313131  1.41414141  1.51515152  1.61616162  1.71717172\n",
      "  1.81818182  1.91919192  2.02020202  2.12121212  2.22222222  2.32323232\n",
      "  2.42424242  2.52525253  2.62626263  2.72727273  2.82828283  2.92929293\n",
      "  3.03030303  3.13131313  3.23232323  3.33333333  3.43434343  3.53535354\n",
      "  3.63636364  3.73737374  3.83838384  3.93939394  4.04040404  4.14141414\n",
      "  4.24242424  4.34343434  4.44444444  4.54545455  4.64646465  4.74747475\n",
      "  4.84848485  4.94949495  5.05050505  5.15151515  5.25252525  5.35353535\n",
      "  5.45454545  5.55555556  5.65656566  5.75757576  5.85858586  5.95959596\n",
      "  6.06060606  6.16161616  6.26262626  6.36363636  6.46464646  6.56565657\n",
      "  6.66666667  6.76767677  6.86868687  6.96969697  7.07070707  7.17171717\n",
      "  7.27272727  7.37373737  7.47474747  7.57575758  7.67676768  7.77777778\n",
      "  7.87878788  7.97979798  8.08080808  8.18181818  8.28282828  8.38383838\n",
      "  8.48484848  8.58585859  8.68686869  8.78787879  8.88888889  8.98989899\n",
      "  9.09090909  9.19191919  9.29292929  9.39393939  9.49494949  9.5959596\n",
      "  9.6969697   9.7979798   9.8989899  10.        ]\n"
     ]
    }
   ],
   "execution_count": 5
  },
  {
   "metadata": {
    "ExecuteTime": {
     "end_time": "2025-04-14T08:30:44.881898Z",
     "start_time": "2025-04-14T08:30:44.445895Z"
    }
   },
   "cell_type": "code",
   "source": [
    "import matplotlib.pyplot as plt\n",
    "import numpy as np\n",
    "\n",
    "x = np.linspace(0, 10, 10)\n",
    "y = np.linspace(0, 5, 5)\n",
    "X, Y = np.meshgrid(x, y)\n",
    "Z = np.sin(X) * np.cos(Y)\n",
    "\n",
    "fig, ax = plt.subplots()\n",
    "mesh = ax.pcolormesh(X, Y, Z, cmap='plasma', shading='auto')\n",
    "fig.colorbar(mesh, ax=ax, label='值')\n",
    "\n",
    "ax.set_xlabel(\"X轴\")\n",
    "ax.set_ylabel(\"Y轴\")\n",
    "plt.title(\"二维密度图\")\n",
    "plt.show()"
   ],
   "id": "b95d69acdbeca962",
   "outputs": [
    {
     "name": "stderr",
     "output_type": "stream",
     "text": [
      "D:\\AVAS_CONTROL\\AVAS_control\\venv\\lib\\site-packages\\IPython\\core\\pylabtools.py:170: UserWarning: Glyph 36724 (\\N{CJK UNIFIED IDEOGRAPH-8F74}) missing from font(s) DejaVu Sans.\n",
      "  fig.canvas.print_figure(bytes_io, **kw)\n",
      "D:\\AVAS_CONTROL\\AVAS_control\\venv\\lib\\site-packages\\IPython\\core\\pylabtools.py:170: UserWarning: Glyph 20108 (\\N{CJK UNIFIED IDEOGRAPH-4E8C}) missing from font(s) DejaVu Sans.\n",
      "  fig.canvas.print_figure(bytes_io, **kw)\n",
      "D:\\AVAS_CONTROL\\AVAS_control\\venv\\lib\\site-packages\\IPython\\core\\pylabtools.py:170: UserWarning: Glyph 32500 (\\N{CJK UNIFIED IDEOGRAPH-7EF4}) missing from font(s) DejaVu Sans.\n",
      "  fig.canvas.print_figure(bytes_io, **kw)\n",
      "D:\\AVAS_CONTROL\\AVAS_control\\venv\\lib\\site-packages\\IPython\\core\\pylabtools.py:170: UserWarning: Glyph 23494 (\\N{CJK UNIFIED IDEOGRAPH-5BC6}) missing from font(s) DejaVu Sans.\n",
      "  fig.canvas.print_figure(bytes_io, **kw)\n",
      "D:\\AVAS_CONTROL\\AVAS_control\\venv\\lib\\site-packages\\IPython\\core\\pylabtools.py:170: UserWarning: Glyph 24230 (\\N{CJK UNIFIED IDEOGRAPH-5EA6}) missing from font(s) DejaVu Sans.\n",
      "  fig.canvas.print_figure(bytes_io, **kw)\n",
      "D:\\AVAS_CONTROL\\AVAS_control\\venv\\lib\\site-packages\\IPython\\core\\pylabtools.py:170: UserWarning: Glyph 22270 (\\N{CJK UNIFIED IDEOGRAPH-56FE}) missing from font(s) DejaVu Sans.\n",
      "  fig.canvas.print_figure(bytes_io, **kw)\n",
      "D:\\AVAS_CONTROL\\AVAS_control\\venv\\lib\\site-packages\\IPython\\core\\pylabtools.py:170: UserWarning: Glyph 20540 (\\N{CJK UNIFIED IDEOGRAPH-503C}) missing from font(s) DejaVu Sans.\n",
      "  fig.canvas.print_figure(bytes_io, **kw)\n"
     ]
    },
    {
     "data": {
      "text/plain": [
       "<Figure size 432x288 with 2 Axes>"
      ],
      "image/png": "[encoded data removed]"
     },
     "metadata": {
      "needs_background": "light"
     },
     "output_type": "display_data"
    }
   ],
   "execution_count": 6
  },
  {
   "metadata": {
    "ExecuteTime": {
     "end_time": "2025-04-14T12:56:52.498894Z",
     "start_time": "2025-04-14T12:56:52.409895Z"
    }
   },
   "cell_type": "code",
   "source": [
    "import numpy as np\n",
    "import matplotlib.pyplot as plt\n",
    "\n",
    "# 创建网格点 (二维)\n",
    "x = np.linspace(0, 5, 5)\n",
    "y = np.linspace(6, 10, 5)\n",
    "X, Y = np.meshgrid(x, y)  # 生成二维网格坐标\n",
    "print(X)\n",
    "print(Y)\n",
    "# 假设 Z 是某个函数的值\n",
    "Z = np.sin(X) * np.cos(Y)\n",
    "print(Z)\n",
    "# 创建图\n",
    "fig, ax = plt.subplots()\n",
    "\n",
    "# 画图（注意X,Y,Z都是二维矩阵）\n",
    "mesh = ax.pcolormesh(X, Y, Z, cmap='viridis', shading='auto')\n",
    "\n",
    "# 加颜色条\n",
    "fig.colorbar(mesh, ax=ax, label='Z值')\n",
    "\n",
    "# 添加标签\n",
    "ax.set_title(\"pcolormesh 示例\")\n",
    "ax.set_xlabel(\"X\")\n",
    "ax.set_ylabel(\"Y\")\n",
    "\n",
    "plt.show()\n"
   ],
   "id": "28db53d8a2bf92c",
   "outputs": [
    {
     "name": "stdout",
     "output_type": "stream",
     "text": [
      "[[0.   1.25 2.5  3.75 5.  ]\n",
      " [0.   1.25 2.5  3.75 5.  ]\n",
      " [0.   1.25 2.5  3.75 5.  ]\n",
      " [0.   1.25 2.5  3.75 5.  ]\n",
      " [0.   1.25 2.5  3.75 5.  ]]\n",
      "[[ 6.  6.  6.  6.  6.]\n",
      " [ 7.  7.  7.  7.  7.]\n",
      " [ 8.  8.  8.  8.  8.]\n",
      " [ 9.  9.  9.  9.  9.]\n",
      " [10. 10. 10. 10. 10.]]\n",
      "[[ 0.          0.91118683  0.57463517 -0.5487962  -0.9207306 ]\n",
      " [ 0.          0.71544164  0.4511895  -0.43090137 -0.72293517]\n",
      " [-0.         -0.13807729 -0.08707772  0.08316219  0.13952351]\n",
      " [-0.         -0.8646486  -0.54528608  0.52076681  0.87370493]\n",
      " [-0.         -0.79626598 -0.50216094  0.47958083  0.80460606]]\n"
     ]
    },
    {
     "data": {
      "text/plain": [
       "<Figure size 432x288 with 2 Axes>"
      ],
      "image/png": "[encoded data removed]"
     },
     "metadata": {
      "needs_background": "light"
     },
     "output_type": "display_data"
    }
   ],
   "execution_count": 15
  },
  {
   "metadata": {},
   "cell_type": "code",
   "outputs": [],
   "execution_count": null,
   "source": "",
   "id": "dc550fad97a077b2"
  },
  {
   "metadata": {
    "ExecuteTime": {
     "end_time": "2025-04-14T10:51:04.269734Z",
     "start_time": "2025-04-14T10:51:04.255729Z"
    }
   },
   "cell_type": "code",
   "source": [
    "v = (1.7699297 - 1.5270665) / np.cos(-33/180*np.pi)\n",
    "print(v)"
   ],
   "id": "bb8b28c4262b0ab",
   "outputs": [
    {
     "name": "stdout",
     "output_type": "stream",
     "text": [
      "0.2895811648606752\n"
     ]
    }
   ],
   "execution_count": 14
  },
  {
   "metadata": {
    "ExecuteTime": {
     "end_time": "2025-04-15T01:05:13.785501Z",
     "start_time": "2025-04-15T01:05:13.777503Z"
    }
   },
   "cell_type": "code",
   "source": [
    "def plot_phase_advance(**item):\n",
    "    print(item)\n",
    "# 调用方式 2：用字典解包\n",
    "params = {\n",
    "    \"projectPath\": \"project/from_dict\",\n",
    "    \"show_\": 1,\n",
    "    \"platform\": \"web\"\n",
    "}\n",
    "plot_phase_advance(**params)\n"
   ],
   "id": "6ac2466924630af5",
   "outputs": [
    {
     "name": "stdout",
     "output_type": "stream",
     "text": [
      "{'projectPath': 'project/from_dict', 'show_': 1, 'platform': 'web'}\n"
     ]
    }
   ],
   "execution_count": 16
  },
  {
   "metadata": {},
   "cell_type": "code",
   "outputs": [],
   "execution_count": null,
   "source": [
    "#说明，datax是一维列表，而datay是三维，原因维三个y数据使用相同的x数据。\n",
    "{'code': 0, \n",
    "'data': {'msg': 'success', \n",
    " 'picturePath': 'D:\\\\using\\\\test_avas_qt\\\\cafe_avas\\\\OutputFile\\\\Picture\\\\f9dece618bed464fa3dbc5e3d9f65500.png',\n",
    " \n",
    " 'pictureInfo':{\n",
    "'labelx': 'Position( m )', \n",
    "'labely': 'Phase advance( deg )', \n",
    "'datax': [0.64, 1.28023, 1.92013, 2.55969, ],\n",
    "],\n",
    " \n",
    "'datay': [[72.51961875957701, 6.408474541502314, 2.50451721,], \n",
    "[60.98496268121927, 13.248040996118245, 5.845812838408112, ], \n",
    "[38.75022219487113, 18.64255947283799, 9.808448599154202, ]], \n",
    "\n",
    "'legends': ['$\\\\sigma_{x}$', '$\\\\sigma_{y}$', '$\\\\sigma_{z}$']\n",
    "}}\n",
    "}\n",
    "\n",
    "'picturePath': '\\\\f9dece618bed464fa3dbc5e3d9f65500.png'\n",
    "'pictureInfo':"
   ],
   "id": "74138d74e3d20b91"
  }
 ],
 "metadata": {
  "kernelspec": {
   "display_name": "Python 3",
   "language": "python",
   "name": "python3"
  },
  "language_info": {
   "codemirror_mode": {
    "name": "ipython",
    "version": 2
   },
   "file_extension": ".py",
   "mimetype": "text/x-python",
   "name": "python",
   "nbconvert_exporter": "python",
   "pygments_lexer": "ipython2",
   "version": "2.7.6"
  }
 },
 "nbformat": 4,
 "nbformat_minor": 5
}
