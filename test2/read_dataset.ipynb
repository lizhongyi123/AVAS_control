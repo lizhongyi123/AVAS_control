{
 "cells": [
  {
   "cell_type": "code",
   "id": "initial_id",
   "metadata": {
    "collapsed": true,
    "ExecuteTime": {
     "end_time": "2025-04-11T01:16:58.325017Z",
     "start_time": "2025-04-11T01:16:58.304017Z"
    }
   },
   "source": [
    "from utils.readfile import read_txt\n",
    "\n",
    "path = r\"D:\\using\\test_avas_qt\\cafe_avas\\OutputFile\\output_0\\DataSet.txt\"\n",
    "res = read_txt(path,out='list')\n",
    "print(res[-1][28])"
   ],
   "outputs": [
    {
     "name": "stdout",
     "output_type": "stream",
     "text": [
      "1\n"
     ]
    }
   ],
   "execution_count": 2
  }
 ],
 "metadata": {
  "kernelspec": {
   "display_name": "Python 3",
   "language": "python",
   "name": "python3"
  },
  "language_info": {
   "codemirror_mode": {
    "name": "ipython",
    "version": 2
   },
   "file_extension": ".py",
   "mimetype": "text/x-python",
   "name": "python",
   "nbconvert_exporter": "python",
   "pygments_lexer": "ipython2",
   "version": "2.7.6"
  }
 },
 "nbformat": 4,
 "nbformat_minor": 5
}
